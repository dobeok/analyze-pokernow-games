{
 "cells": [
  {
   "cell_type": "markdown",
   "metadata": {},
   "source": [
    "## Data"
   ]
  },
  {
   "cell_type": "code",
   "execution_count": null,
   "metadata": {},
   "outputs": [],
   "source": [
    "from sklearn.linear_model import LinearRegression\n",
    "from sklearn.metrics import r2_score\n",
    "import numpy as np\n",
    "import pandas as pd\n",
    "from pandasql import sqldf\n",
    "import plotly.graph_objects as go\n",
    "import matplotlib.pyplot as plt\n",
    "plt.style.use('fivethirtyeight')"
   ]
  },
  {
   "cell_type": "code",
   "execution_count": null,
   "metadata": {},
   "outputs": [],
   "source": [
    "file_name = 'processed-raw_data.csv'\n",
    "df = pd.read_csv(f'../data/processed/{file_name}')\n",
    "\n",
    "df['at'] = pd.to_datetime(df['at'])"
   ]
  },
  {
   "cell_type": "markdown",
   "metadata": {},
   "source": [
    "## Analysis"
   ]
  },
  {
   "cell_type": "markdown",
   "metadata": {},
   "source": [
    "### Games statistics"
   ]
  },
  {
   "cell_type": "markdown",
   "metadata": {},
   "source": [
    "**1. What are the pot size distributions?**"
   ]
  },
  {
   "cell_type": "code",
   "execution_count": null,
   "metadata": {},
   "outputs": [],
   "source": [
    "df['hand_id'].nunique()"
   ]
  },
  {
   "cell_type": "code",
   "execution_count": null,
   "metadata": {},
   "outputs": [],
   "source": [
    "fig, axes = plt.subplots(1,2, figsize=(10, 6))\n",
    "pot_sizes = df.groupby('hand_id')['pot_size'].max().sort_values(ascending=False) / 0.20\n",
    "\n",
    "\n",
    "pot_sizes.to_frame().hist(ax=axes[0], ec='white', bins=25)\n",
    "axes[0].set_title('Raw pot size distribution')\n",
    "axes[0].set_ylabel('Number of hands')\n",
    "axes[0].set_xlabel('Big blinds')\n",
    "\n",
    "np.log10(pot_sizes).to_frame().hist(ax=axes[1], ec='white')\n",
    "axes[1].set_title('log(pot size) distribution')\n",
    "axes[1].set_ylabel('Number of hands')\n",
    "axes[1].set_xlabel('log(Big blinds)')\n",
    "\n",
    "fig.suptitle('Median pot size is about 10^1.5 ~ 31 x BB')"
   ]
  },
  {
   "cell_type": "markdown",
   "metadata": {},
   "source": [
    "The left chart (raw pot sizes) shows that the distribution is heavily skewed. It's easier to use log of pot size (right chart) and see that the median pot value is around 30x BB (~10**1.5)"
   ]
  },
  {
   "cell_type": "markdown",
   "metadata": {},
   "source": [
    "**2. At which phases are the hands won?**\n",
    "\n",
    "Judging from the result, we can conclude that the game was pretty casual as it often went to River. My hypothesis is that good players have better evaluation of their hands strength, hence they can make decisions earlier (eg. folding earlier). Meanwhile, at a lower stake game, player don't lose much in terms of dollar value hence it's ok to commit longer.\n",
    "\n",
    "We can verify this by comparing hand end phase vs. a higher stake game."
   ]
  },
  {
   "cell_type": "code",
   "execution_count": null,
   "metadata": {},
   "outputs": [],
   "source": [
    "fig, ax = plt.subplots()\n",
    "ax.clear()\n",
    "df.loc[df['action']=='Won'].groupby('hand_id')['phase'].max().value_counts(dropna=False, ascending=True).plot(ax=ax, kind='barh', width=1, ec='white')\n",
    "ax.set_title('At which phases are hands won?')\n",
    "ax.set_ylabel('Phase')\n",
    "ax.set_xlabel('Number of hands')"
   ]
  },
  {
   "cell_type": "markdown",
   "metadata": {},
   "source": [
    "**3. How many pots were split?**\n",
    "\n",
    "We can determine by counting the number of winners per hand"
   ]
  },
  {
   "cell_type": "code",
   "execution_count": null,
   "metadata": {},
   "outputs": [],
   "source": [
    "df.loc[df['action']=='Won']['hand_id'].value_counts().value_counts()"
   ]
  },
  {
   "cell_type": "markdown",
   "metadata": {},
   "source": [
    "### Individual player statistics"
   ]
  },
  {
   "cell_type": "markdown",
   "metadata": {},
   "source": [
    "**1. Overview:  Number of hands played, Winnings, Win per hand**\n",
    "\n",
    "By itself number of hands played only shows how many hands the players sit in. But will be useful to calculate the various playstyle metrics below.\n",
    "\n",
    "We can make a reasonable assumption that, given enough hands, the better players win more. Next we will analyse different patterns of behaviors. Hopefully we can learn from the winners here."
   ]
  },
  {
   "cell_type": "code",
   "execution_count": null,
   "metadata": {},
   "outputs": [],
   "source": [
    "# pl = player dataframe to store all metrics\n",
    "pl = df.loc[(df['phase']=='Pre-flop') & (df['rank-P0']==1)]['player_name'].value_counts(dropna=False).to_frame(name='num_hands_played')\n",
    "_expenses = df.groupby('player_name')['put_in'].sum()\n",
    "_expenses.name = 'total_expenses'\n",
    "\n",
    "\n",
    "_income = df.loc[df['action']=='Won'].groupby('player_name')['_amount'].sum().sort_values()\n",
    "_income.name = 'total_income'\n",
    "\n",
    "pl = pl.merge(_income, left_index=True, right_index=True)\n",
    "pl = pl.merge(_expenses, left_index=True, right_index=True)\n",
    "\n",
    "pl['win/hand'] = (pl['total_income'] - pl['total_expenses']) / pl['num_hands_played']\n",
    "\n",
    "pl.sort_values(by='win/hand', ascending=False).head(5)"
   ]
  },
  {
   "cell_type": "code",
   "execution_count": null,
   "metadata": {},
   "outputs": [],
   "source": [
    "fig2, axes = plt.subplots(1, 3, figsize=(12, 3.5), sharey=True)\n",
    "pl = pl.sort_values(by='num_hands_played')\n",
    "pl15 = pl[-15:]\n",
    "pl15['num_hands_played'].plot(ax=axes[0], title='Num hands played', kind='barh', width=1, ec='white')\n",
    "(pl15['total_income'] - pl15['total_expenses']).plot(ax=axes[1], title='Net win (no. of BB)', kind='barh', ec='white', width=1)\n",
    "pl15['win/hand'].plot(ax=axes[2], title='Win per hand (no of. BB)', kind='barh', ec='white', width=1)\n",
    "axes[0].set_ylabel('player id')"
   ]
  },
  {
   "cell_type": "code",
   "execution_count": null,
   "metadata": {},
   "outputs": [],
   "source": [
    "# bucket players into 'classes' based on BBs win per hand\n",
    "# s = winning\n",
    "# f = not so winning\n",
    "\n",
    "class_s = pl.loc[pl['win/hand']>=.1].index\n",
    "class_a = pl.loc[(pl['win/hand']>0) & (pl['win/hand']<.1)].index\n",
    "class_b = pl.loc[(pl['win/hand']<=0) & (pl['win/hand']>-.1)].index\n",
    "class_f = pl.loc[pl['win/hand']<=-.1].index"
   ]
  },
  {
   "cell_type": "markdown",
   "metadata": {},
   "source": [
    "From this chart we can see that Loi @ 6k.. is a good player. We will try to find out how he plays!"
   ]
  },
  {
   "cell_type": "markdown",
   "metadata": {},
   "source": [
    "**2. VPIP: Voluntarily Put In Pot & PFR: Pre-flop Raises**\n",
    "\n",
    "VPIP tracks the percentage of hands in which a particular player voluntarily puts money into the pot preflop. VPIP increases when a player could fold but instead commits money to the pot preflop. This includes limping (merely calling the big blind), calling, and raising.\n",
    "\n",
    "PFR tracks the percentage of hands in which a particular player makes a preflop raise when having the opportunity to fold or call instead. This includes reraises. By definition, PFR is a subset of VPIP. So we will plot the ratio PFR/VPIP to measure player's tendency.\n"
   ]
  },
  {
   "cell_type": "code",
   "execution_count": null,
   "metadata": {},
   "outputs": [],
   "source": [
    "# tracking player win\n",
    "# per hand\n",
    "# cost = sum(put_in)\n",
    "# income = sum(_amount) where action = won\n",
    "# index = hand_num, hand_id\n",
    "# columns = player_name\n",
    "# value = income - cost\n",
    "# \n",
    "# prob doesn't make sense to do this analysis because players play at different tables outside of this game\n",
    "# a summary metric per session makes more sense"
   ]
  },
  {
   "cell_type": "code",
   "execution_count": null,
   "metadata": {},
   "outputs": [],
   "source": [
    "# running vpip\n",
    "# np.array([1,0,0,1,1,..])\n",
    "# where\n",
    "#   1 = vpip\n",
    "#   0 = no vpip\n",
    "# purpose: track if this figure change when the game progress or stack sizes change\n",
    "# hypothesis:\n",
    "#   players that are up will tighten their game. vice versa, those are down will play looser\n",
    "\n",
    "# recap\n",
    "# vpip is defined when phase == 'Pre-flop' and rank-P2 == 1 and action in ['Bet/Raises', 'Calls']\n",
    "\n",
    "# player_tracker = {\n",
    "#   player_name: pd.DataFrame with columns: hand_id, session_id, running vpip, pnl\n",
    "# }\n",
    "\n",
    "player_data = {}\n",
    "for player_name in df['player_name'].unique():\n",
    "    _df = df[(df['player_name']==player_name) & (df['phase']=='Pre-flop') & (df['rank-P2']==1)][['hand_num', 'hand_id', 'action']].copy(deep=True).reset_index(drop=True)\n",
    "    \n",
    "    _df['vpip'] = 0\n",
    "    _df.loc[_df['action'].isin(['Bets/Raises', 'Calls']), 'vpip'] = 1\n",
    "    \n",
    "    _df['hand_num'] = _df['hand_num'].astype(int)\n",
    "    _df['session_date'] = _df['hand_id'].str[:10]\n",
    "    _df['running_vpip_all_time'] =_df['vpip'].cumsum()\n",
    "    _df['running_vpip_session'] = _df.groupby('session_date')['vpip'].cumsum()\n",
    "    \n",
    "    \n",
    "    _df['running_vpip_session_%'] = _df['running_vpip_session'] / _df['hand_num']\n",
    "    _df['running_vpip_all_time_%'] = _df['running_vpip_all_time'] / _df.index\n",
    "\n",
    "    player_data[player_name] = _df"
   ]
  },
  {
   "cell_type": "code",
   "execution_count": null,
   "metadata": {},
   "outputs": [],
   "source": [
    "# fig, ax = plt.subplots(figsize=(15,5))\n",
    "# x_data = sorted(df['session_date'].unique())\n",
    "# ax.scatter(x_data, [0]*len(x_data), s=0)\n",
    "# plt.xticks(rotation=90)\n",
    "\n",
    "# # pdf = player df\n",
    "# for pid, pdf in player_data.items():\n",
    "#     # only plot frequent players to marke chart readable\n",
    "#     if pdf['session_date'].nunique() > 3:\n",
    "#         session_vpip = pdf.groupby('session_date')['vpip'].mean()\n",
    "#         ax.plot(session_vpip, label=pid, markersize=30, lw=1)\n",
    "#     # print(pid, session_vpip)\n",
    "\n",
    "# ax.legend()"
   ]
  },
  {
   "cell_type": "code",
   "execution_count": null,
   "metadata": {},
   "outputs": [],
   "source": [
    "# VPIP\n",
    "_vpip = df.loc[(df['phase']=='Pre-flop') &\n",
    "    (df['rank-P2']==1) &\n",
    "    (df['action'].isin(['Bets/Raises', 'Calls']))\n",
    "    ]['player_name'].value_counts(dropna=False)\n",
    "_vpip.name = 'VPIP'\n",
    "pl = pl.merge(_vpip, how='left', left_index=True, right_index=True)\n",
    "pl['% VPIP'] = (pl['VPIP'] / pl['num_hands_played']).round(2)\n",
    "\n",
    "# PFR / VPIP\n",
    "_pfr = df.loc[(df['phase']=='Pre-flop') &\n",
    "    (df['action']=='Bets/Raises')][['player_name', 'hand_num']].drop_duplicates()['player_name'].value_counts()\n",
    "_pfr.name = 'PFR'\n",
    "pl = pl.merge(_pfr, how='left', left_index=True, right_index=True)\n",
    "pl['PFR / VPIP'] = (pl['PFR'] / pl['VPIP']).round(2)"
   ]
  },
  {
   "cell_type": "code",
   "execution_count": null,
   "metadata": {},
   "outputs": [],
   "source": [
    "fig, ax = plt.subplots()\n",
    "pl.iloc[-15:][['% VPIP', 'win/hand']].plot(kind='scatter', x='% VPIP', y='win/hand', ax=ax, s=30, label='frequent players')\n",
    "pl.iloc[:-15][['% VPIP', 'win/hand']].plot(kind='scatter', x='% VPIP', y='win/hand', ax=ax, s=30, color='#8b8b8b', alpha=.5, label='infrequent players')\n",
    "\n",
    "\n",
    "linear_regressor = LinearRegression()\n",
    "linear_regressor.fit(pl.iloc[-15:]['% VPIP'].values.reshape(-1, 1), pl.iloc[-15:]['win/hand'].values.reshape(-1, 1))\n",
    "\n",
    "X = np.linspace(0, 1, 1000).reshape(-1, 1)\n",
    "y_pred = linear_regressor.predict(X)\n",
    "\n",
    "ax.plot(X, y_pred, ls='--', lw=1)\n",
    "ax.set_ylabel('win/hand (no. of BB)')\n",
    "\n",
    "ax.legend(loc='center left', bbox_to_anchor=(1, .5),)\n",
    "\n",
    "slope = round(linear_regressor.coef_[0][0],2)\n",
    "ax.set_title('Higher % VPIP (playing more loosely)\\nis correlated with lower win/hand')"
   ]
  },
  {
   "cell_type": "code",
   "execution_count": null,
   "metadata": {},
   "outputs": [],
   "source": [
    "fig, ax = plt.subplots()\n",
    "pl.iloc[-15:][['PFR / VPIP', 'win/hand']].plot(kind='scatter', x='PFR / VPIP', y='win/hand', ax=ax, s=30, label='frequent players')\n",
    "pl.iloc[:-15][['PFR / VPIP', 'win/hand']].plot(kind='scatter', x='PFR / VPIP', y='win/hand', ax=ax, s=30, color='#8b8b8b', alpha=.5, label='infrequent players')\n",
    "\n",
    "\n",
    "linear_regressor = LinearRegression()\n",
    "linear_regressor.fit(pl.iloc[-15:]['PFR / VPIP'].values.reshape(-1, 1), pl.iloc[-15:]['win/hand'].values.reshape(-1, 1))\n",
    "\n",
    "X = np.linspace(0, 1, 1000).reshape(-1, 1)\n",
    "y_pred = linear_regressor.predict(X)\n",
    "\n",
    "ax.plot(X, y_pred, ls='--', lw=1)\n",
    "ax.set_ylabel('win/hand (no. of BB)')\n",
    "\n",
    "ax.legend(loc='center left', bbox_to_anchor=(1, .5),)\n",
    "\n",
    "slope = round(linear_regressor.coef_[0][0],2)\n",
    "ax.set_title('Higher Pre-flop Raises (playing more aggressively)\\nis correlated to higher win/hand')"
   ]
  },
  {
   "cell_type": "markdown",
   "metadata": {},
   "source": [
    "It's clearer now that the winning players play fewer hands (lower % VPIP). But when they play, they are more aggressive with raisings!"
   ]
  },
  {
   "cell_type": "markdown",
   "metadata": {},
   "source": [
    "**3. 3-BET and C-BET** (WIP)"
   ]
  },
  {
   "cell_type": "code",
   "execution_count": null,
   "metadata": {},
   "outputs": [],
   "source": [
    "# _3bet = df.loc[(df['phase']=='Pre-flop') &\n",
    "#     (df['action']=='Bets/Raises') &\n",
    "#     (df['rank-A2']>1)]['player_name'].value_counts(dropna=False).fillna(0)\n",
    "# _3bet.name = '3-BET'\n",
    "# pl = pl.merge(_3bet, how='left', left_index=True, right_index=True)\n",
    "# pl['% 3-BET'] = (pl['3-BET'] / pl['num_hands_played']).round(3)"
   ]
  },
  {
   "cell_type": "code",
   "execution_count": null,
   "metadata": {},
   "outputs": [],
   "source": [
    "# pl.sort_values(by='% 3-BET', na_position='first')['% 3-BET'].plot(kind='barh', title='3-BET', width=1, ec='white')"
   ]
  },
  {
   "cell_type": "markdown",
   "metadata": {},
   "source": [
    "**4. Wins and positions**\n",
    "\n",
    "Good players play positions as well!\n",
    "* EP: Early positions\n",
    "* MP: Middle positions\n",
    "* LP: Late positions"
   ]
  },
  {
   "cell_type": "code",
   "execution_count": null,
   "metadata": {},
   "outputs": [],
   "source": [
    "_pos = df.loc[df['action']=='Won'].pivot_table(\n",
    "    index='player_name',\n",
    "    columns='position_tag',\n",
    "    values='hand_num',\n",
    "    aggfunc=len,\n",
    "    fill_value=0,\n",
    ")\n",
    "_pos['Total'] = _pos.sum(axis=1)\n",
    "\n",
    "_pos.columns.name = None\n",
    "for col in _pos.columns:\n",
    "    if col != 'Total':\n",
    "        _pos[f'Win at {col}'] = _pos[col] / _pos['Total']\n",
    "\n",
    "_pos = _pos.round(3)\n",
    "_pos_pct = _pos[[col for col in _pos.columns if col.startswith('Win at')]]\n",
    "\n",
    "_pos_pct"
   ]
  },
  {
   "cell_type": "code",
   "execution_count": null,
   "metadata": {},
   "outputs": [],
   "source": [
    "# fig4, axes = plt.subplots(4, 1)\n",
    "# _pos_pct.loc[class_s].plot(ax=axes[0], kind='barh', stacked=True, title='Share of winnings based on Position', width=1, ec='white')\n",
    "# _pos_pct.loc[class_a].plot(ax=axes[1], kind='barh', stacked=True, width=1, ec='white')\n",
    "# _pos_pct.loc[class_b].plot(ax=axes[2], kind='barh', stacked=True, width=1, ec='white')\n",
    "# _pos_pct.loc[class_f].plot(ax=axes[3], kind='barh', stacked=True, width=1, ec='white')\n",
    "\n",
    "# for ax in axes:\n",
    "#     ax.get_yaxis().set_ticks([])\n",
    "\n",
    "# axes[3].legend(loc='lower center', ncol=4, bbox_to_anchor=(0.5, -0.25))\n",
    "# ax.set_ylabel('')"
   ]
  },
  {
   "cell_type": "markdown",
   "metadata": {},
   "source": []
  }
 ],
 "metadata": {
  "kernelspec": {
   "display_name": "Python 3.9.13 64-bit",
   "language": "python",
   "name": "python3"
  },
  "language_info": {
   "codemirror_mode": {
    "name": "ipython",
    "version": 3
   },
   "file_extension": ".py",
   "mimetype": "text/x-python",
   "name": "python",
   "nbconvert_exporter": "python",
   "pygments_lexer": "ipython3",
   "version": "3.9.13"
  },
  "orig_nbformat": 4,
  "vscode": {
   "interpreter": {
    "hash": "a665b5d41d17b532ea9890333293a1b812fa0b73c9c25c950b3cedf1bebd0438"
   }
  }
 },
 "nbformat": 4,
 "nbformat_minor": 2
}
